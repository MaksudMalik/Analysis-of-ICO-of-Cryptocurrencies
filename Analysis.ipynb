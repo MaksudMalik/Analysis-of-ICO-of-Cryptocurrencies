{
 "cells": [
  {
   "cell_type": "markdown",
   "metadata": {},
   "source": [
    "## Analyzing ICO of Cryptocurrencies\n",
    "In this project, we'll analyze ICO of some unique cryptocurrencies. An ICO (Initial Coin Offering) is like a crowdfunding campaign for cryptocurrency projects. ICOs became popular because they allow startups to raise funds quickly and directly from supporters all over the world, without the need for intermediaries. Here we will analyze the coins based on their types, uses cases and platforms."
   ]
  },
  {
   "cell_type": "markdown",
   "metadata": {},
   "source": [
    "For this project, we will use ICO Cryptocurrency Dataset found in Kaggle. We will download it using opendatasets library and analyze the data present in it"
   ]
  },
  {
   "cell_type": "code",
   "execution_count": 2,
   "metadata": {},
   "outputs": [
    {
     "data": {
      "text/html": [
       "<div>\n",
       "<style scoped>\n",
       "    .dataframe tbody tr th:only-of-type {\n",
       "        vertical-align: middle;\n",
       "    }\n",
       "\n",
       "    .dataframe tbody tr th {\n",
       "        vertical-align: top;\n",
       "    }\n",
       "\n",
       "    .dataframe thead th {\n",
       "        text-align: right;\n",
       "    }\n",
       "</style>\n",
       "<table border=\"1\" class=\"dataframe\">\n",
       "  <thead>\n",
       "    <tr style=\"text-align: right;\">\n",
       "      <th></th>\n",
       "      <th>Unnamed: 0</th>\n",
       "      <th>coin_ticker</th>\n",
       "      <th>received_money</th>\n",
       "      <th>sold_coins</th>\n",
       "      <th>role_of_token</th>\n",
       "      <th>category</th>\n",
       "      <th>goal</th>\n",
       "      <th>total_tokens</th>\n",
       "      <th>interest</th>\n",
       "      <th>fundraising_goal</th>\n",
       "      <th>...</th>\n",
       "      <th>ico_token_price</th>\n",
       "      <th>received_money.1</th>\n",
       "      <th>end_date</th>\n",
       "      <th>token_type</th>\n",
       "      <th>available_for_token_sale</th>\n",
       "      <th>min_max_personal_cap</th>\n",
       "      <th>whitelist</th>\n",
       "      <th>accepts</th>\n",
       "      <th>token_issue</th>\n",
       "      <th>cant_participate</th>\n",
       "    </tr>\n",
       "  </thead>\n",
       "  <tbody>\n",
       "    <tr>\n",
       "      <th>0</th>\n",
       "      <td>0</td>\n",
       "      <td>Ozone Metaverse</td>\n",
       "      <td>$1,430,000</td>\n",
       "      <td>$1,430,000 (100%)</td>\n",
       "      <td>Utility</td>\n",
       "      <td>Platform</td>\n",
       "      <td>$1,430,000</td>\n",
       "      <td>2,000,000,000</td>\n",
       "      <td>Not Rated</td>\n",
       "      <td>$280,000</td>\n",
       "      <td>...</td>\n",
       "      <td>1 OZONE = 0.007 USD</td>\n",
       "      <td>$1,430,000</td>\n",
       "      <td>Ended: 6 Jul 2023</td>\n",
       "      <td>Flow</td>\n",
       "      <td>21,25%</td>\n",
       "      <td>NaN</td>\n",
       "      <td>NaN</td>\n",
       "      <td>NaN</td>\n",
       "      <td>NaN</td>\n",
       "      <td>NaN</td>\n",
       "    </tr>\n",
       "    <tr>\n",
       "      <th>1</th>\n",
       "      <td>1</td>\n",
       "      <td>TypeIT</td>\n",
       "      <td>Pending</td>\n",
       "      <td>NaN</td>\n",
       "      <td>Utility</td>\n",
       "      <td>Blockchain Service</td>\n",
       "      <td>Pending</td>\n",
       "      <td>1,000,000,000</td>\n",
       "      <td>Not Rated</td>\n",
       "      <td>22,000,000 Token</td>\n",
       "      <td>...</td>\n",
       "      <td>1 TYPE = 0.05 USD</td>\n",
       "      <td>Pending</td>\n",
       "      <td>Ended: 6 Jul 2023</td>\n",
       "      <td>ERC20</td>\n",
       "      <td>NaN</td>\n",
       "      <td>NaN</td>\n",
       "      <td>NaN</td>\n",
       "      <td>NaN</td>\n",
       "      <td>NaN</td>\n",
       "      <td>NaN</td>\n",
       "    </tr>\n",
       "    <tr>\n",
       "      <th>2</th>\n",
       "      <td>2</td>\n",
       "      <td>EGO (Paysenger)</td>\n",
       "      <td>$4,160,000</td>\n",
       "      <td>$4,160,000 (100%)</td>\n",
       "      <td>Utility</td>\n",
       "      <td>Social Network</td>\n",
       "      <td>$4,160,000</td>\n",
       "      <td>500,000,000</td>\n",
       "      <td>Not Rated</td>\n",
       "      <td>$859,000</td>\n",
       "      <td>...</td>\n",
       "      <td>1 EGO = 0.06 USD</td>\n",
       "      <td>$4,160,000</td>\n",
       "      <td>Ended: 5 Jul 2023</td>\n",
       "      <td>BEP-20</td>\n",
       "      <td>26.6%</td>\n",
       "      <td>100$ / 2500$</td>\n",
       "      <td>Yes (until 24 May,</td>\n",
       "      <td>ETH, USDT, USDC, DOT</td>\n",
       "      <td>NaN</td>\n",
       "      <td>Afghanistan, Burundi, Central African Republic...</td>\n",
       "    </tr>\n",
       "    <tr>\n",
       "      <th>3</th>\n",
       "      <td>3</td>\n",
       "      <td>Goracle</td>\n",
       "      <td>$3,725,000</td>\n",
       "      <td>$3,730,000 (100%)</td>\n",
       "      <td>Utility</td>\n",
       "      <td>Blockchain Service</td>\n",
       "      <td>$3,730,000</td>\n",
       "      <td>NaN</td>\n",
       "      <td>Not Rated</td>\n",
       "      <td>NaN</td>\n",
       "      <td>...</td>\n",
       "      <td>NaN</td>\n",
       "      <td>$3,725,000</td>\n",
       "      <td>Ended: 5 Jul 2023</td>\n",
       "      <td>NaN</td>\n",
       "      <td>NaN</td>\n",
       "      <td>NaN</td>\n",
       "      <td>NaN</td>\n",
       "      <td>NaN</td>\n",
       "      <td>NaN</td>\n",
       "      <td>NaN</td>\n",
       "    </tr>\n",
       "    <tr>\n",
       "      <th>4</th>\n",
       "      <td>4</td>\n",
       "      <td>BIDSHOP</td>\n",
       "      <td>$250,000</td>\n",
       "      <td>NaN</td>\n",
       "      <td>Utility</td>\n",
       "      <td>DeFi</td>\n",
       "      <td>Not Set</td>\n",
       "      <td>NaN</td>\n",
       "      <td>Not Rated</td>\n",
       "      <td>NaN</td>\n",
       "      <td>...</td>\n",
       "      <td>NaN</td>\n",
       "      <td>$250,000</td>\n",
       "      <td>Ended: 30 Jun 2023</td>\n",
       "      <td>NaN</td>\n",
       "      <td>NaN</td>\n",
       "      <td>NaN</td>\n",
       "      <td>NaN</td>\n",
       "      <td>NaN</td>\n",
       "      <td>NaN</td>\n",
       "      <td>NaN</td>\n",
       "    </tr>\n",
       "    <tr>\n",
       "      <th>...</th>\n",
       "      <td>...</td>\n",
       "      <td>...</td>\n",
       "      <td>...</td>\n",
       "      <td>...</td>\n",
       "      <td>...</td>\n",
       "      <td>...</td>\n",
       "      <td>...</td>\n",
       "      <td>...</td>\n",
       "      <td>...</td>\n",
       "      <td>...</td>\n",
       "      <td>...</td>\n",
       "      <td>...</td>\n",
       "      <td>...</td>\n",
       "      <td>...</td>\n",
       "      <td>...</td>\n",
       "      <td>...</td>\n",
       "      <td>...</td>\n",
       "      <td>...</td>\n",
       "      <td>...</td>\n",
       "      <td>...</td>\n",
       "      <td>...</td>\n",
       "    </tr>\n",
       "    <tr>\n",
       "      <th>12375</th>\n",
       "      <td>12375</td>\n",
       "      <td>Sommelier</td>\n",
       "      <td>$26,500,000</td>\n",
       "      <td>NaN</td>\n",
       "      <td>Utility</td>\n",
       "      <td>Blockchain Service</td>\n",
       "      <td>Not Set</td>\n",
       "      <td>NaN</td>\n",
       "      <td>Not Rated</td>\n",
       "      <td>NaN</td>\n",
       "      <td>...</td>\n",
       "      <td>NaN</td>\n",
       "      <td>$26,500,000</td>\n",
       "      <td>\\t\\tDATE: TBA\\t\\t</td>\n",
       "      <td>ERC20</td>\n",
       "      <td>NaN</td>\n",
       "      <td>NaN</td>\n",
       "      <td>NaN</td>\n",
       "      <td>NaN</td>\n",
       "      <td>NaN</td>\n",
       "      <td>NaN</td>\n",
       "    </tr>\n",
       "    <tr>\n",
       "      <th>12376</th>\n",
       "      <td>12376</td>\n",
       "      <td>Swivel Finance</td>\n",
       "      <td>$4,650,000</td>\n",
       "      <td>NaN</td>\n",
       "      <td>Utility</td>\n",
       "      <td>Lending</td>\n",
       "      <td>Not Set</td>\n",
       "      <td>NaN</td>\n",
       "      <td>Not Rated</td>\n",
       "      <td>NaN</td>\n",
       "      <td>...</td>\n",
       "      <td>NaN</td>\n",
       "      <td>$4,650,000</td>\n",
       "      <td>\\t\\tDATE: TBA\\t\\t</td>\n",
       "      <td>ERC20</td>\n",
       "      <td>NaN</td>\n",
       "      <td>NaN</td>\n",
       "      <td>NaN</td>\n",
       "      <td>NaN</td>\n",
       "      <td>NaN</td>\n",
       "      <td>NaN</td>\n",
       "    </tr>\n",
       "    <tr>\n",
       "      <th>12377</th>\n",
       "      <td>12377</td>\n",
       "      <td>CoinFLEX</td>\n",
       "      <td>$11,250,000</td>\n",
       "      <td>NaN</td>\n",
       "      <td>Utility</td>\n",
       "      <td>Platform</td>\n",
       "      <td>Not Set</td>\n",
       "      <td>100,000,000</td>\n",
       "      <td>Not Rated</td>\n",
       "      <td>ETH</td>\n",
       "      <td>...</td>\n",
       "      <td>1 FLEX = 0.43 USD</td>\n",
       "      <td>$11,250,000</td>\n",
       "      <td>\\t\\tDATE: TBA\\t\\t</td>\n",
       "      <td>ERC20</td>\n",
       "      <td>NaN</td>\n",
       "      <td>NaN</td>\n",
       "      <td>NaN</td>\n",
       "      <td>NaN</td>\n",
       "      <td>NaN</td>\n",
       "      <td>NaN</td>\n",
       "    </tr>\n",
       "    <tr>\n",
       "      <th>12378</th>\n",
       "      <td>12378</td>\n",
       "      <td>MetaMask</td>\n",
       "      <td>Pending</td>\n",
       "      <td>NaN</td>\n",
       "      <td>Utility</td>\n",
       "      <td>Wallet</td>\n",
       "      <td>Pending</td>\n",
       "      <td>NaN</td>\n",
       "      <td>Not Rated</td>\n",
       "      <td>NaN</td>\n",
       "      <td>...</td>\n",
       "      <td>NaN</td>\n",
       "      <td>Pending</td>\n",
       "      <td>\\t\\tDATE: TBA\\t\\t</td>\n",
       "      <td>ERC20</td>\n",
       "      <td>NaN</td>\n",
       "      <td>NaN</td>\n",
       "      <td>NaN</td>\n",
       "      <td>NaN</td>\n",
       "      <td>NaN</td>\n",
       "      <td>NaN</td>\n",
       "    </tr>\n",
       "    <tr>\n",
       "      <th>12379</th>\n",
       "      <td>12379</td>\n",
       "      <td>Teller Finance</td>\n",
       "      <td>$7,850,000</td>\n",
       "      <td>NaN</td>\n",
       "      <td>Utility</td>\n",
       "      <td>DeFi</td>\n",
       "      <td>Not Set</td>\n",
       "      <td>NaN</td>\n",
       "      <td>Not Rated</td>\n",
       "      <td>NaN</td>\n",
       "      <td>...</td>\n",
       "      <td>NaN</td>\n",
       "      <td>$7,850,000</td>\n",
       "      <td>\\t\\tDATE: TBA\\t\\t</td>\n",
       "      <td>ERC20</td>\n",
       "      <td>NaN</td>\n",
       "      <td>NaN</td>\n",
       "      <td>NaN</td>\n",
       "      <td>NaN</td>\n",
       "      <td>NaN</td>\n",
       "      <td>NaN</td>\n",
       "    </tr>\n",
       "  </tbody>\n",
       "</table>\n",
       "<p>12380 rows × 21 columns</p>\n",
       "</div>"
      ],
      "text/plain": [
       "       Unnamed: 0      coin_ticker received_money          sold_coins  \\\n",
       "0               0  Ozone Metaverse    $1,430,000   $1,430,000 (100%)    \n",
       "1               1           TypeIT       Pending                  NaN   \n",
       "2               2  EGO (Paysenger)    $4,160,000   $4,160,000 (100%)    \n",
       "3               3          Goracle    $3,725,000   $3,730,000 (100%)    \n",
       "4               4          BIDSHOP      $250,000                  NaN   \n",
       "...           ...              ...            ...                 ...   \n",
       "12375       12375        Sommelier   $26,500,000                  NaN   \n",
       "12376       12376   Swivel Finance    $4,650,000                  NaN   \n",
       "12377       12377         CoinFLEX   $11,250,000                  NaN   \n",
       "12378       12378         MetaMask       Pending                  NaN   \n",
       "12379       12379   Teller Finance    $7,850,000                  NaN   \n",
       "\n",
       "      role_of_token            category         goal   total_tokens  \\\n",
       "0           Utility            Platform  $1,430,000   2,000,000,000   \n",
       "1           Utility  Blockchain Service      Pending  1,000,000,000   \n",
       "2           Utility      Social Network  $4,160,000     500,000,000   \n",
       "3           Utility  Blockchain Service  $3,730,000             NaN   \n",
       "4           Utility                DeFi      Not Set            NaN   \n",
       "...             ...                 ...          ...            ...   \n",
       "12375       Utility  Blockchain Service      Not Set            NaN   \n",
       "12376       Utility             Lending      Not Set            NaN   \n",
       "12377       Utility            Platform      Not Set    100,000,000   \n",
       "12378       Utility              Wallet      Pending            NaN   \n",
       "12379       Utility                DeFi      Not Set            NaN   \n",
       "\n",
       "        interest     fundraising_goal  ...        ico_token_price  \\\n",
       "0      Not Rated            $280,000   ...   1 OZONE = 0.007 USD    \n",
       "1      Not Rated   22,000,000 Token    ...     1 TYPE = 0.05 USD    \n",
       "2      Not Rated            $859,000   ...      1 EGO = 0.06 USD    \n",
       "3      Not Rated                  NaN  ...                    NaN   \n",
       "4      Not Rated                  NaN  ...                    NaN   \n",
       "...          ...                  ...  ...                    ...   \n",
       "12375  Not Rated                  NaN  ...                    NaN   \n",
       "12376  Not Rated                  NaN  ...                    NaN   \n",
       "12377  Not Rated                 ETH   ...     1 FLEX = 0.43 USD    \n",
       "12378  Not Rated                  NaN  ...                    NaN   \n",
       "12379  Not Rated                  NaN  ...                    NaN   \n",
       "\n",
       "      received_money.1             end_date token_type  \\\n",
       "0          $1,430,000    Ended: 6 Jul 2023        Flow   \n",
       "1             Pending    Ended: 6 Jul 2023       ERC20   \n",
       "2          $4,160,000    Ended: 5 Jul 2023      BEP-20   \n",
       "3          $3,725,000    Ended: 5 Jul 2023         NaN   \n",
       "4            $250,000   Ended: 30 Jun 2023         NaN   \n",
       "...                ...                  ...        ...   \n",
       "12375     $26,500,000     \\t\\tDATE: TBA\\t\\t      ERC20   \n",
       "12376      $4,650,000     \\t\\tDATE: TBA\\t\\t      ERC20   \n",
       "12377     $11,250,000     \\t\\tDATE: TBA\\t\\t      ERC20   \n",
       "12378         Pending     \\t\\tDATE: TBA\\t\\t      ERC20   \n",
       "12379      $7,850,000     \\t\\tDATE: TBA\\t\\t      ERC20   \n",
       "\n",
       "      available_for_token_sale min_max_personal_cap            whitelist  \\\n",
       "0                       21,25%                  NaN                  NaN   \n",
       "1                          NaN                  NaN                  NaN   \n",
       "2                        26.6%         100$ / 2500$  Yes (until 24 May,    \n",
       "3                          NaN                  NaN                  NaN   \n",
       "4                          NaN                  NaN                  NaN   \n",
       "...                        ...                  ...                  ...   \n",
       "12375                      NaN                  NaN                  NaN   \n",
       "12376                      NaN                  NaN                  NaN   \n",
       "12377                      NaN                  NaN                  NaN   \n",
       "12378                      NaN                  NaN                  NaN   \n",
       "12379                      NaN                  NaN                  NaN   \n",
       "\n",
       "                    accepts token_issue  \\\n",
       "0                       NaN         NaN   \n",
       "1                       NaN         NaN   \n",
       "2      ETH, USDT, USDC, DOT         NaN   \n",
       "3                       NaN         NaN   \n",
       "4                       NaN         NaN   \n",
       "...                     ...         ...   \n",
       "12375                   NaN         NaN   \n",
       "12376                   NaN         NaN   \n",
       "12377                   NaN         NaN   \n",
       "12378                   NaN         NaN   \n",
       "12379                   NaN         NaN   \n",
       "\n",
       "                                        cant_participate  \n",
       "0                                                    NaN  \n",
       "1                                                    NaN  \n",
       "2      Afghanistan, Burundi, Central African Republic...  \n",
       "3                                                    NaN  \n",
       "4                                                    NaN  \n",
       "...                                                  ...  \n",
       "12375                                                NaN  \n",
       "12376                                                NaN  \n",
       "12377                                                NaN  \n",
       "12378                                                NaN  \n",
       "12379                                                NaN  \n",
       "\n",
       "[12380 rows x 21 columns]"
      ]
     },
     "execution_count": 2,
     "metadata": {},
     "output_type": "execute_result"
    }
   ],
   "source": [
    "import pandas as pd\n",
    "ico_raw_data=pd.read_csv('./ico.csv')\n",
    "ico_raw_data"
   ]
  },
  {
   "cell_type": "markdown",
   "metadata": {},
   "source": [
    "## Data Preparation and Cleaning\n",
    "\n",
    "The data obtained from the csv file contains various information. We will work with the following areas in this analysis.\n",
    "\n",
    "- Received and Targeted Funds\n",
    "- Roles of coin and Category of projects\n",
    "- Access of different countries to these ICOs\n",
    "\n",
    "So in this section, we will prepare our dataset based on the areas of our interest and clean them for further analyzing."
   ]
  },
  {
   "cell_type": "markdown",
   "metadata": {},
   "source": [
    "Here first of all we need to convert the currency values to plain integers in order to make our further analysis more convenient. In order to do that, we created a function `extract` to simply remove all symbols and delimeters and used `to_numeric` function later on to convert to integer"
   ]
  },
  {
   "cell_type": "code",
   "execution_count": 3,
   "metadata": {},
   "outputs": [],
   "source": [
    "def extract(string):\n",
    "    li=[i for i in str(string) if ('0'<=i<='9' )]\n",
    "    return (''.join(li))"
   ]
  },
  {
   "cell_type": "code",
   "execution_count": 4,
   "metadata": {},
   "outputs": [],
   "source": [
    "selected_columns = ['coin_ticker','received_money','role_of_token','category','interest','fundraising_goal','token_type']\n",
    "ico_data=ico_raw_data[selected_columns].copy()\n",
    "ico_data['received_money']=ico_data['received_money'].apply(extract).apply(pd.to_numeric, errors='coerce')\n",
    "ico_data['fundraising_goal']=ico_data['fundraising_goal'].apply(extract).apply(pd.to_numeric, errors='coerce')"
   ]
  },
  {
   "cell_type": "markdown",
   "metadata": {},
   "source": [
    "Now we need to omit the rows that has pending ICO"
   ]
  },
  {
   "cell_type": "code",
   "execution_count": 5,
   "metadata": {},
   "outputs": [
    {
     "data": {
      "text/html": [
       "<div>\n",
       "<style scoped>\n",
       "    .dataframe tbody tr th:only-of-type {\n",
       "        vertical-align: middle;\n",
       "    }\n",
       "\n",
       "    .dataframe tbody tr th {\n",
       "        vertical-align: top;\n",
       "    }\n",
       "\n",
       "    .dataframe thead th {\n",
       "        text-align: right;\n",
       "    }\n",
       "</style>\n",
       "<table border=\"1\" class=\"dataframe\">\n",
       "  <thead>\n",
       "    <tr style=\"text-align: right;\">\n",
       "      <th></th>\n",
       "      <th>coin_ticker</th>\n",
       "      <th>received_money</th>\n",
       "      <th>role_of_token</th>\n",
       "      <th>category</th>\n",
       "      <th>interest</th>\n",
       "      <th>fundraising_goal</th>\n",
       "      <th>token_type</th>\n",
       "    </tr>\n",
       "  </thead>\n",
       "  <tbody>\n",
       "    <tr>\n",
       "      <th>0</th>\n",
       "      <td>Ozone Metaverse</td>\n",
       "      <td>1430000.0</td>\n",
       "      <td>Utility</td>\n",
       "      <td>Platform</td>\n",
       "      <td>Not Rated</td>\n",
       "      <td>280000.0</td>\n",
       "      <td>Flow</td>\n",
       "    </tr>\n",
       "    <tr>\n",
       "      <th>2</th>\n",
       "      <td>EGO (Paysenger)</td>\n",
       "      <td>4160000.0</td>\n",
       "      <td>Utility</td>\n",
       "      <td>Social Network</td>\n",
       "      <td>Not Rated</td>\n",
       "      <td>859000.0</td>\n",
       "      <td>BEP-20</td>\n",
       "    </tr>\n",
       "    <tr>\n",
       "      <th>3</th>\n",
       "      <td>Goracle</td>\n",
       "      <td>3725000.0</td>\n",
       "      <td>Utility</td>\n",
       "      <td>Blockchain Service</td>\n",
       "      <td>Not Rated</td>\n",
       "      <td>NaN</td>\n",
       "      <td>NaN</td>\n",
       "    </tr>\n",
       "    <tr>\n",
       "      <th>4</th>\n",
       "      <td>BIDSHOP</td>\n",
       "      <td>250000.0</td>\n",
       "      <td>Utility</td>\n",
       "      <td>DeFi</td>\n",
       "      <td>Not Rated</td>\n",
       "      <td>NaN</td>\n",
       "      <td>NaN</td>\n",
       "    </tr>\n",
       "    <tr>\n",
       "      <th>5</th>\n",
       "      <td>Tectum</td>\n",
       "      <td>4202573.0</td>\n",
       "      <td>Utility</td>\n",
       "      <td>Blockchain</td>\n",
       "      <td>Not Rated</td>\n",
       "      <td>NaN</td>\n",
       "      <td>NaN</td>\n",
       "    </tr>\n",
       "    <tr>\n",
       "      <th>...</th>\n",
       "      <td>...</td>\n",
       "      <td>...</td>\n",
       "      <td>...</td>\n",
       "      <td>...</td>\n",
       "      <td>...</td>\n",
       "      <td>...</td>\n",
       "      <td>...</td>\n",
       "    </tr>\n",
       "    <tr>\n",
       "      <th>12374</th>\n",
       "      <td>dTrade</td>\n",
       "      <td>22800000.0</td>\n",
       "      <td>Utility</td>\n",
       "      <td>Exchange</td>\n",
       "      <td>Not Rated</td>\n",
       "      <td>NaN</td>\n",
       "      <td>Polkadot</td>\n",
       "    </tr>\n",
       "    <tr>\n",
       "      <th>12375</th>\n",
       "      <td>Sommelier</td>\n",
       "      <td>26500000.0</td>\n",
       "      <td>Utility</td>\n",
       "      <td>Blockchain Service</td>\n",
       "      <td>Not Rated</td>\n",
       "      <td>NaN</td>\n",
       "      <td>ERC20</td>\n",
       "    </tr>\n",
       "    <tr>\n",
       "      <th>12376</th>\n",
       "      <td>Swivel Finance</td>\n",
       "      <td>4650000.0</td>\n",
       "      <td>Utility</td>\n",
       "      <td>Lending</td>\n",
       "      <td>Not Rated</td>\n",
       "      <td>NaN</td>\n",
       "      <td>ERC20</td>\n",
       "    </tr>\n",
       "    <tr>\n",
       "      <th>12377</th>\n",
       "      <td>CoinFLEX</td>\n",
       "      <td>11250000.0</td>\n",
       "      <td>Utility</td>\n",
       "      <td>Platform</td>\n",
       "      <td>Not Rated</td>\n",
       "      <td>NaN</td>\n",
       "      <td>ERC20</td>\n",
       "    </tr>\n",
       "    <tr>\n",
       "      <th>12379</th>\n",
       "      <td>Teller Finance</td>\n",
       "      <td>7850000.0</td>\n",
       "      <td>Utility</td>\n",
       "      <td>DeFi</td>\n",
       "      <td>Not Rated</td>\n",
       "      <td>NaN</td>\n",
       "      <td>ERC20</td>\n",
       "    </tr>\n",
       "  </tbody>\n",
       "</table>\n",
       "<p>10290 rows × 7 columns</p>\n",
       "</div>"
      ],
      "text/plain": [
       "           coin_ticker  received_money role_of_token            category  \\\n",
       "0      Ozone Metaverse       1430000.0       Utility            Platform   \n",
       "2      EGO (Paysenger)       4160000.0       Utility      Social Network   \n",
       "3              Goracle       3725000.0       Utility  Blockchain Service   \n",
       "4              BIDSHOP        250000.0       Utility                DeFi   \n",
       "5               Tectum       4202573.0       Utility          Blockchain   \n",
       "...                ...             ...           ...                 ...   \n",
       "12374           dTrade      22800000.0       Utility            Exchange   \n",
       "12375        Sommelier      26500000.0       Utility  Blockchain Service   \n",
       "12376   Swivel Finance       4650000.0       Utility             Lending   \n",
       "12377         CoinFLEX      11250000.0       Utility            Platform   \n",
       "12379   Teller Finance       7850000.0       Utility                DeFi   \n",
       "\n",
       "        interest  fundraising_goal token_type  \n",
       "0      Not Rated          280000.0       Flow  \n",
       "2      Not Rated          859000.0     BEP-20  \n",
       "3      Not Rated               NaN        NaN  \n",
       "4      Not Rated               NaN        NaN  \n",
       "5      Not Rated               NaN        NaN  \n",
       "...          ...               ...        ...  \n",
       "12374  Not Rated               NaN   Polkadot  \n",
       "12375  Not Rated               NaN      ERC20  \n",
       "12376  Not Rated               NaN      ERC20  \n",
       "12377  Not Rated               NaN      ERC20  \n",
       "12379  Not Rated               NaN      ERC20  \n",
       "\n",
       "[10290 rows x 7 columns]"
      ]
     },
     "execution_count": 5,
     "metadata": {},
     "output_type": "execute_result"
    }
   ],
   "source": [
    "ico_data.drop(ico_data[ico_data.received_money.isna()].index, inplace=True)\n",
    "ico_data"
   ]
  },
  {
   "cell_type": "code",
   "execution_count": 6,
   "metadata": {},
   "outputs": [
    {
     "data": {
      "text/html": [
       "<div>\n",
       "<style scoped>\n",
       "    .dataframe tbody tr th:only-of-type {\n",
       "        vertical-align: middle;\n",
       "    }\n",
       "\n",
       "    .dataframe tbody tr th {\n",
       "        vertical-align: top;\n",
       "    }\n",
       "\n",
       "    .dataframe thead th {\n",
       "        text-align: right;\n",
       "    }\n",
       "</style>\n",
       "<table border=\"1\" class=\"dataframe\">\n",
       "  <thead>\n",
       "    <tr style=\"text-align: right;\">\n",
       "      <th></th>\n",
       "      <th>received_money</th>\n",
       "      <th>fundraising_goal</th>\n",
       "    </tr>\n",
       "  </thead>\n",
       "  <tbody>\n",
       "    <tr>\n",
       "      <th>count</th>\n",
       "      <td>1.029000e+04</td>\n",
       "      <td>1.888000e+03</td>\n",
       "    </tr>\n",
       "    <tr>\n",
       "      <th>mean</th>\n",
       "      <td>7.867958e+08</td>\n",
       "      <td>5.773453e+07</td>\n",
       "    </tr>\n",
       "    <tr>\n",
       "      <th>std</th>\n",
       "      <td>1.417500e+10</td>\n",
       "      <td>3.300583e+08</td>\n",
       "    </tr>\n",
       "    <tr>\n",
       "      <th>min</th>\n",
       "      <td>3.000000e+04</td>\n",
       "      <td>2.000000e+04</td>\n",
       "    </tr>\n",
       "    <tr>\n",
       "      <th>25%</th>\n",
       "      <td>2.670000e+06</td>\n",
       "      <td>2.700000e+05</td>\n",
       "    </tr>\n",
       "    <tr>\n",
       "      <th>50%</th>\n",
       "      <td>5.750000e+06</td>\n",
       "      <td>8.250000e+05</td>\n",
       "    </tr>\n",
       "    <tr>\n",
       "      <th>75%</th>\n",
       "      <td>1.640000e+07</td>\n",
       "      <td>4.500000e+06</td>\n",
       "    </tr>\n",
       "    <tr>\n",
       "      <th>max</th>\n",
       "      <td>3.770000e+11</td>\n",
       "      <td>3.000000e+09</td>\n",
       "    </tr>\n",
       "  </tbody>\n",
       "</table>\n",
       "</div>"
      ],
      "text/plain": [
       "       received_money  fundraising_goal\n",
       "count    1.029000e+04      1.888000e+03\n",
       "mean     7.867958e+08      5.773453e+07\n",
       "std      1.417500e+10      3.300583e+08\n",
       "min      3.000000e+04      2.000000e+04\n",
       "25%      2.670000e+06      2.700000e+05\n",
       "50%      5.750000e+06      8.250000e+05\n",
       "75%      1.640000e+07      4.500000e+06\n",
       "max      3.770000e+11      3.000000e+09"
      ]
     },
     "execution_count": 6,
     "metadata": {},
     "output_type": "execute_result"
    }
   ],
   "source": [
    "ico_data.describe()"
   ]
  },
  {
   "cell_type": "markdown",
   "metadata": {},
   "source": [
    "## Exploratory Analysis and Visualization\n",
    "\n",
    "Now the data is clean, let's do some visualization. We will visualize some basic information here and try to find some useful insights of cryotocurrency ICOs\n"
   ]
  },
  {
   "cell_type": "markdown",
   "metadata": {},
   "source": [
    "Let's begin by importing `matplotlib.pyplot` and `seaborn`."
   ]
  },
  {
   "cell_type": "code",
   "execution_count": 7,
   "metadata": {},
   "outputs": [],
   "source": [
    "import seaborn as sns\n",
    "import matplotlib\n",
    "import matplotlib.pyplot as plt\n",
    "%matplotlib inline\n",
    "\n",
    "sns.set_style('darkgrid')\n",
    "matplotlib.rcParams['font.size'] = 14\n",
    "matplotlib.rcParams['figure.figsize'] = (9, 5)\n",
    "matplotlib.rcParams['figure.facecolor'] = '#00000000'"
   ]
  },
  {
   "cell_type": "markdown",
   "metadata": {},
   "source": [
    "### 1) Funds Raised by Projects"
   ]
  },
  {
   "cell_type": "code",
   "execution_count": 8,
   "metadata": {},
   "outputs": [
    {
     "data": {
      "text/plain": [
       "447"
      ]
     },
     "execution_count": 8,
     "metadata": {},
     "output_type": "execute_result"
    }
   ],
   "source": [
    "len(ico_data.coin_ticker.unique())"
   ]
  },
  {
   "cell_type": "markdown",
   "metadata": {},
   "source": [
    "As we can see, there are 447 projects which indicates repeated entry for many projects."
   ]
  },
  {
   "cell_type": "code",
   "execution_count": 9,
   "metadata": {},
   "outputs": [
    {
     "data": {
      "text/html": [
       "<div>\n",
       "<style scoped>\n",
       "    .dataframe tbody tr th:only-of-type {\n",
       "        vertical-align: middle;\n",
       "    }\n",
       "\n",
       "    .dataframe tbody tr th {\n",
       "        vertical-align: top;\n",
       "    }\n",
       "\n",
       "    .dataframe thead th {\n",
       "        text-align: right;\n",
       "    }\n",
       "</style>\n",
       "<table border=\"1\" class=\"dataframe\">\n",
       "  <thead>\n",
       "    <tr style=\"text-align: right;\">\n",
       "      <th></th>\n",
       "      <th>received_money</th>\n",
       "      <th>fundraising_goal</th>\n",
       "    </tr>\n",
       "    <tr>\n",
       "      <th>coin_ticker</th>\n",
       "      <th></th>\n",
       "      <th></th>\n",
       "    </tr>\n",
       "  </thead>\n",
       "  <tbody>\n",
       "    <tr>\n",
       "      <th>Cere Network</th>\n",
       "      <td>3.770000e+11</td>\n",
       "      <td>NaN</td>\n",
       "    </tr>\n",
       "    <tr>\n",
       "      <th>Republic Note</th>\n",
       "      <td>4.900000e+10</td>\n",
       "      <td>NaN</td>\n",
       "    </tr>\n",
       "    <tr>\n",
       "      <th>Gods Unchained</th>\n",
       "      <td>2.532000e+10</td>\n",
       "      <td>35000000.0</td>\n",
       "    </tr>\n",
       "    <tr>\n",
       "      <th>Wink</th>\n",
       "      <td>1.600000e+10</td>\n",
       "      <td>NaN</td>\n",
       "    </tr>\n",
       "    <tr>\n",
       "      <th>Band Protocol</th>\n",
       "      <td>1.085000e+10</td>\n",
       "      <td>NaN</td>\n",
       "    </tr>\n",
       "    <tr>\n",
       "      <th>Blockstack</th>\n",
       "      <td>8.050000e+09</td>\n",
       "      <td>NaN</td>\n",
       "    </tr>\n",
       "    <tr>\n",
       "      <th>Perlin</th>\n",
       "      <td>6.700000e+09</td>\n",
       "      <td>NaN</td>\n",
       "    </tr>\n",
       "    <tr>\n",
       "      <th>Ultra</th>\n",
       "      <td>5.000000e+09</td>\n",
       "      <td>NaN</td>\n",
       "    </tr>\n",
       "    <tr>\n",
       "      <th>Ampleforth</th>\n",
       "      <td>4.999234e+09</td>\n",
       "      <td>NaN</td>\n",
       "    </tr>\n",
       "    <tr>\n",
       "      <th>UltrAlpha</th>\n",
       "      <td>2.000000e+09</td>\n",
       "      <td>NaN</td>\n",
       "    </tr>\n",
       "  </tbody>\n",
       "</table>\n",
       "</div>"
      ],
      "text/plain": [
       "                received_money  fundraising_goal\n",
       "coin_ticker                                     \n",
       "Cere Network      3.770000e+11               NaN\n",
       "Republic Note     4.900000e+10               NaN\n",
       "Gods Unchained    2.532000e+10        35000000.0\n",
       "Wink              1.600000e+10               NaN\n",
       "Band Protocol     1.085000e+10               NaN\n",
       "Blockstack        8.050000e+09               NaN\n",
       "Perlin            6.700000e+09               NaN\n",
       "Ultra             5.000000e+09               NaN\n",
       "Ampleforth        4.999234e+09               NaN\n",
       "UltrAlpha         2.000000e+09               NaN"
      ]
     },
     "execution_count": 9,
     "metadata": {},
     "output_type": "execute_result"
    }
   ],
   "source": [
    "ico_groupby_project=ico_data.groupby(ico_data.coin_ticker).first()\n",
    "ico_groupby_project.drop(columns=['role_of_token','category','interest','token_type'], inplace=True)\n",
    "ico_groupby_project_sorted=ico_groupby_project.sort_values('received_money', ascending=False).head(10)\n",
    "ico_groupby_project_sorted"
   ]
  },
  {
   "cell_type": "code",
   "execution_count": 10,
   "metadata": {},
   "outputs": [
    {
     "data": {
      "image/png": "[encoded data removed]",
      "text/plain": [
       "<Figure size 800x400 with 1 Axes>"
      ]
     },
     "metadata": {
      "needs_background": "light"
     },
     "output_type": "display_data"
    }
   ],
   "source": [
    "plt.figure(figsize=(8,4))\n",
    "plt.title('Money Raised by Projects')\n",
    "plt.xticks(rotation=75)\n",
    "sns.barplot(x=ico_groupby_project_sorted.index, y=ico_groupby_project_sorted.received_money);"
   ]
  },
  {
   "cell_type": "markdown",
   "metadata": {},
   "source": [
    "From this visualization, we can conclude that Cere Network raised funds higher than any other projects valued at 377 Billion"
   ]
  },
  {
   "cell_type": "markdown",
   "metadata": {},
   "source": [
    "### 2) Goal Vs Received Funds\n",
    "Now let's compare targeted amount vs received amount of those projects. At first let's filter out the projects that don't have any set goal"
   ]
  },
  {
   "cell_type": "code",
   "execution_count": 11,
   "metadata": {},
   "outputs": [
    {
     "data": {
      "text/html": [
       "<div>\n",
       "<style scoped>\n",
       "    .dataframe tbody tr th:only-of-type {\n",
       "        vertical-align: middle;\n",
       "    }\n",
       "\n",
       "    .dataframe tbody tr th {\n",
       "        vertical-align: top;\n",
       "    }\n",
       "\n",
       "    .dataframe thead th {\n",
       "        text-align: right;\n",
       "    }\n",
       "</style>\n",
       "<table border=\"1\" class=\"dataframe\">\n",
       "  <thead>\n",
       "    <tr style=\"text-align: right;\">\n",
       "      <th></th>\n",
       "      <th>received_money</th>\n",
       "      <th>fundraising_goal</th>\n",
       "    </tr>\n",
       "    <tr>\n",
       "      <th>coin_ticker</th>\n",
       "      <th></th>\n",
       "      <th></th>\n",
       "    </tr>\n",
       "  </thead>\n",
       "  <tbody>\n",
       "    <tr>\n",
       "      <th>ARTT Network</th>\n",
       "      <td>225000.0</td>\n",
       "      <td>100000.0</td>\n",
       "    </tr>\n",
       "    <tr>\n",
       "      <th>Agoric</th>\n",
       "      <td>90250000.0</td>\n",
       "      <td>70000000.0</td>\n",
       "    </tr>\n",
       "    <tr>\n",
       "      <th>Alaska Gold Rush</th>\n",
       "      <td>150000.0</td>\n",
       "      <td>100000.0</td>\n",
       "    </tr>\n",
       "    <tr>\n",
       "      <th>ArbiPad</th>\n",
       "      <td>1200000.0</td>\n",
       "      <td>1200000.0</td>\n",
       "    </tr>\n",
       "    <tr>\n",
       "      <th>Archway</th>\n",
       "      <td>27000000.0</td>\n",
       "      <td>6000000.0</td>\n",
       "    </tr>\n",
       "    <tr>\n",
       "      <th>...</th>\n",
       "      <td>...</td>\n",
       "      <td>...</td>\n",
       "    </tr>\n",
       "    <tr>\n",
       "      <th>Turbos Finance</th>\n",
       "      <td>3750000.0</td>\n",
       "      <td>750000.0</td>\n",
       "    </tr>\n",
       "    <tr>\n",
       "      <th>Uno Farm</th>\n",
       "      <td>540000.0</td>\n",
       "      <td>10000000.0</td>\n",
       "    </tr>\n",
       "    <tr>\n",
       "      <th>Web3Games</th>\n",
       "      <td>4000000.0</td>\n",
       "      <td>250000.0</td>\n",
       "    </tr>\n",
       "    <tr>\n",
       "      <th>WiFi Map</th>\n",
       "      <td>1700000.0</td>\n",
       "      <td>500000.0</td>\n",
       "    </tr>\n",
       "    <tr>\n",
       "      <th>Your Open Metaverse</th>\n",
       "      <td>3085000.0</td>\n",
       "      <td>300000.0</td>\n",
       "    </tr>\n",
       "  </tbody>\n",
       "</table>\n",
       "<p>77 rows × 2 columns</p>\n",
       "</div>"
      ],
      "text/plain": [
       "                     received_money  fundraising_goal\n",
       "coin_ticker                                          \n",
       "ARTT Network               225000.0          100000.0\n",
       "Agoric                   90250000.0        70000000.0\n",
       "Alaska Gold Rush           150000.0          100000.0\n",
       "ArbiPad                   1200000.0         1200000.0\n",
       "Archway                  27000000.0         6000000.0\n",
       "...                             ...               ...\n",
       "Turbos Finance            3750000.0          750000.0\n",
       "Uno Farm                   540000.0        10000000.0\n",
       "Web3Games                 4000000.0          250000.0\n",
       "WiFi Map                  1700000.0          500000.0\n",
       "Your Open Metaverse       3085000.0          300000.0\n",
       "\n",
       "[77 rows x 2 columns]"
      ]
     },
     "execution_count": 11,
     "metadata": {},
     "output_type": "execute_result"
    }
   ],
   "source": [
    "projects_with_goals=ico_groupby_project[ico_groupby_project.fundraising_goal>0]\n",
    "projects_with_goals"
   ]
  },
  {
   "cell_type": "markdown",
   "metadata": {},
   "source": [
    "So, here we can see that only 77 completed projects had set goals, now let's see how many of them were able to achieve that goal and try to visualize them"
   ]
  },
  {
   "cell_type": "code",
   "execution_count": 12,
   "metadata": {},
   "outputs": [
    {
     "data": {
      "text/plain": [
       "achieved    21\n",
       "failed      56\n",
       "dtype: int64"
      ]
     },
     "execution_count": 12,
     "metadata": {},
     "output_type": "execute_result"
    }
   ],
   "source": [
    "projects_goals={\n",
    "    'achieved':len(projects_with_goals[projects_with_goals.fundraising_goal>=projects_with_goals.received_money]),\n",
    "    'failed':len(projects_with_goals[projects_with_goals.fundraising_goal<projects_with_goals.received_money])\n",
    "}\n",
    "projects_goals_series=pd.Series(projects_goals)\n",
    "projects_goals_series"
   ]
  },
  {
   "cell_type": "code",
   "execution_count": 13,
   "metadata": {},
   "outputs": [
    {
     "data": {
      "image/png": "[encoded data removed]",
      "text/plain": [
       "<Figure size 900x500 with 1 Axes>"
      ]
     },
     "metadata": {},
     "output_type": "display_data"
    }
   ],
   "source": [
    "plt.pie(projects_goals_series, labels=projects_goals_series.index, autopct='%1.1f%%');"
   ]
  },
  {
   "cell_type": "markdown",
   "metadata": {},
   "source": [
    "### 3) Role of Tokens\n",
    "Now lets take a look at the role of tokens. From this part, we will use the raw data in order to include information from project with ongoing ICOs as well"
   ]
  },
  {
   "cell_type": "code",
   "execution_count": 14,
   "metadata": {},
   "outputs": [
    {
     "data": {
      "text/plain": [
       "array(['Utility', '9', 'Governance', '17', 'Switzerland', '7',\n",
       "       '335 Madison Avenue, Suite 7E, New York, NY 10017'], dtype=object)"
      ]
     },
     "execution_count": 14,
     "metadata": {},
     "output_type": "execute_result"
    }
   ],
   "source": [
    "ico_token_roles=ico_raw_data.groupby(ico_raw_data.coin_ticker)[['role_of_token']].first().reset_index()\n",
    "ico_token_roles.role_of_token.unique()"
   ]
  },
  {
   "cell_type": "markdown",
   "metadata": {},
   "source": [
    "Here we can see there are some irrelevant values which shouldn't be in the column. So we filter out those values"
   ]
  },
  {
   "cell_type": "code",
   "execution_count": 15,
   "metadata": {},
   "outputs": [
    {
     "data": {
      "text/html": [
       "<div>\n",
       "<style scoped>\n",
       "    .dataframe tbody tr th:only-of-type {\n",
       "        vertical-align: middle;\n",
       "    }\n",
       "\n",
       "    .dataframe tbody tr th {\n",
       "        vertical-align: top;\n",
       "    }\n",
       "\n",
       "    .dataframe thead th {\n",
       "        text-align: right;\n",
       "    }\n",
       "</style>\n",
       "<table border=\"1\" class=\"dataframe\">\n",
       "  <thead>\n",
       "    <tr style=\"text-align: right;\">\n",
       "      <th></th>\n",
       "      <th>coin_ticker</th>\n",
       "    </tr>\n",
       "    <tr>\n",
       "      <th>role_of_token</th>\n",
       "      <th></th>\n",
       "    </tr>\n",
       "  </thead>\n",
       "  <tbody>\n",
       "    <tr>\n",
       "      <th>Governance</th>\n",
       "      <td>10</td>\n",
       "    </tr>\n",
       "    <tr>\n",
       "      <th>Utility</th>\n",
       "      <td>524</td>\n",
       "    </tr>\n",
       "  </tbody>\n",
       "</table>\n",
       "</div>"
      ],
      "text/plain": [
       "               coin_ticker\n",
       "role_of_token             \n",
       "Governance              10\n",
       "Utility                524"
      ]
     },
     "execution_count": 15,
     "metadata": {},
     "output_type": "execute_result"
    }
   ],
   "source": [
    "ico_token_roles.drop(ico_token_roles[~ico_token_roles.role_of_token.isin(['Utility', 'Governance'])].index, inplace=True)\n",
    "role_count=ico_token_roles.groupby('role_of_token').count()\n",
    "role_count"
   ]
  },
  {
   "cell_type": "code",
   "execution_count": 16,
   "metadata": {},
   "outputs": [
    {
     "data": {
      "image/png": "[encoded data removed]",
      "text/plain": [
       "<Figure size 600x600 with 1 Axes>"
      ]
     },
     "metadata": {
      "needs_background": "light"
     },
     "output_type": "display_data"
    }
   ],
   "source": [
    "plt.figure(figsize=(6,6))\n",
    "colors=['blue','orange']\n",
    "plt.title('Money Raised by Projects')\n",
    "plt.bar(role_count.index, role_count.coin_ticker,width=0.6, color=colors);"
   ]
  },
  {
   "cell_type": "markdown",
   "metadata": {},
   "source": [
    "### 4) Project Categories\n",
    "Let's have look a look at the types of the projects"
   ]
  },
  {
   "cell_type": "code",
   "execution_count": 25,
   "metadata": {},
   "outputs": [
    {
     "data": {
      "text/html": [
       "<div>\n",
       "<style scoped>\n",
       "    .dataframe tbody tr th:only-of-type {\n",
       "        vertical-align: middle;\n",
       "    }\n",
       "\n",
       "    .dataframe tbody tr th {\n",
       "        vertical-align: top;\n",
       "    }\n",
       "\n",
       "    .dataframe thead th {\n",
       "        text-align: right;\n",
       "    }\n",
       "</style>\n",
       "<table border=\"1\" class=\"dataframe\">\n",
       "  <thead>\n",
       "    <tr style=\"text-align: right;\">\n",
       "      <th></th>\n",
       "      <th>coin_ticker</th>\n",
       "    </tr>\n",
       "    <tr>\n",
       "      <th>category</th>\n",
       "      <th></th>\n",
       "    </tr>\n",
       "  </thead>\n",
       "  <tbody>\n",
       "    <tr>\n",
       "      <th>Blockchain Service</th>\n",
       "      <td>155</td>\n",
       "    </tr>\n",
       "    <tr>\n",
       "      <th>Platform</th>\n",
       "      <td>117</td>\n",
       "    </tr>\n",
       "    <tr>\n",
       "      <th>Protocol</th>\n",
       "      <td>86</td>\n",
       "    </tr>\n",
       "    <tr>\n",
       "      <th>Gaming</th>\n",
       "      <td>55</td>\n",
       "    </tr>\n",
       "    <tr>\n",
       "      <th>DeFi</th>\n",
       "      <td>21</td>\n",
       "    </tr>\n",
       "  </tbody>\n",
       "</table>\n",
       "</div>"
      ],
      "text/plain": [
       "                    coin_ticker\n",
       "category                       \n",
       "Blockchain Service          155\n",
       "Platform                    117\n",
       "Protocol                     86\n",
       "Gaming                       55\n",
       "DeFi                         21"
      ]
     },
     "execution_count": 25,
     "metadata": {},
     "output_type": "execute_result"
    }
   ],
   "source": [
    "grouped_data=ico_raw_data.groupby('coin_ticker')[['category']].first().reset_index()\n",
    "raw_category_count=grouped_data.groupby('category').count().sort_values('coin_ticker',ascending=False)\n",
    "raw_category_count.head()"
   ]
  },
  {
   "cell_type": "markdown",
   "metadata": {},
   "source": [
    "Here we can see, most of the projects are Blockchain Service Providers, We can see a good number of Platform and Protocols as well, let's visualize them"
   ]
  },
  {
   "cell_type": "code",
   "execution_count": 26,
   "metadata": {},
   "outputs": [
    {
     "data": {
      "image/png": "[encoded data removed]",
      "text/plain": [
       "<Figure size 1800x600 with 1 Axes>"
      ]
     },
     "metadata": {
      "needs_background": "light"
     },
     "output_type": "display_data"
    }
   ],
   "source": [
    "plt.figure(figsize=(18,6))\n",
    "plt.title('Category Distribution of Projects')\n",
    "plt.xticks(rotation=80)\n",
    "sns.barplot(x=raw_category_count.index, y=raw_category_count.coin_ticker);"
   ]
  },
  {
   "cell_type": "markdown",
   "metadata": {},
   "source": [
    "### 5) Relation between Project Category and Popularity\n",
    "Now we will try to visualize and find relation between Project Category and Popularity"
   ]
  },
  {
   "cell_type": "code",
   "execution_count": 20,
   "metadata": {},
   "outputs": [
    {
     "data": {
      "text/plain": [
       "array(['Not Rated', '\\r\\nHigh ', 'Ticker: ACA', 'Ticker: BLD', None,\n",
       "       '\\r\\nVery High ', 'Ticker: AXL', '\\r\\nMedium ', 'Ticker: CFG',\n",
       "       'Ticker: COA', 'Ticker: COW', 'Ticker: XX', 'Ticker: SPX',\n",
       "       'Ticker: FRONT', 'Ticker: GODS', 'Ticker: HDX', 'Ticker: IRON',\n",
       "       'Ticker: KINE', 'Ticker: LITH', '\\r\\nWatch List ', 'Ticker: OIN',\n",
       "       'Ticker: RADIX', 'Ticker: STG', 'Ticker: SWASH'], dtype=object)"
      ]
     },
     "execution_count": 20,
     "metadata": {},
     "output_type": "execute_result"
    }
   ],
   "source": [
    "corr_df=ico_data.groupby(ico_data.coin_ticker)[['interest','category']].first().reset_index()\n",
    "corr_df.interest.unique()"
   ]
  },
  {
   "cell_type": "markdown",
   "metadata": {},
   "source": [
    "Here we can see some irrelevant values in the interest field, so we drop them out"
   ]
  },
  {
   "cell_type": "code",
   "execution_count": 21,
   "metadata": {},
   "outputs": [],
   "source": [
    "corr_df.drop(corr_df[~corr_df.interest.isin(['\\nHigh ', '\\nVery High ','\\nMedium '])].index, inplace=True)"
   ]
  },
  {
   "cell_type": "code",
   "execution_count": 22,
   "metadata": {},
   "outputs": [],
   "source": [
    "def clean (string):\n",
    "    return string[1::]\n",
    "corr_df['interest']=corr_df['interest'].apply(clean)"
   ]
  },
  {
   "cell_type": "markdown",
   "metadata": {},
   "source": [
    "Now let's for a crosstab which contains number of ratings per category in a matrix likes structure"
   ]
  },
  {
   "cell_type": "code",
   "execution_count": 23,
   "metadata": {},
   "outputs": [],
   "source": [
    "cross_tab = pd.crosstab(corr_df['category'], corr_df['interest'])\n",
    "cross_tab=cross_tab.reindex(columns=['Medium ', 'High ', 'Very High '])"
   ]
  },
  {
   "cell_type": "code",
   "execution_count": 24,
   "metadata": {},
   "outputs": [
    {
     "ename": "ValueError",
     "evalue": "zero-size array to reduction operation fmin which has no identity",
     "output_type": "error",
     "traceback": [
      "\u001b[1;31m---------------------------------------------------------------------------\u001b[0m",
      "\u001b[1;31mValueError\u001b[0m                                Traceback (most recent call last)",
      "Cell \u001b[1;32mIn[24], line 3\u001b[0m\n\u001b[0;32m      1\u001b[0m plt\u001b[39m.\u001b[39mfigure(figsize\u001b[39m=\u001b[39m(\u001b[39m1.5\u001b[39m,\u001b[39m4.5\u001b[39m))\n\u001b[0;32m      2\u001b[0m plt\u001b[39m.\u001b[39mtitle(\u001b[39m'\u001b[39m\u001b[39mCategory Interest Correlation\u001b[39m\u001b[39m'\u001b[39m)\n\u001b[1;32m----> 3\u001b[0m sns\u001b[39m.\u001b[39;49mheatmap(cross_tab, annot\u001b[39m=\u001b[39;49m\u001b[39mFalse\u001b[39;49;00m, cmap\u001b[39m=\u001b[39;49m\u001b[39m'\u001b[39;49m\u001b[39mReds\u001b[39;49m\u001b[39m'\u001b[39;49m);\n",
      "File \u001b[1;32mc:\\Users\\A C E R\\AppData\\Local\\Programs\\Python\\Python38\\lib\\site-packages\\seaborn\\matrix.py:446\u001b[0m, in \u001b[0;36mheatmap\u001b[1;34m(data, vmin, vmax, cmap, center, robust, annot, fmt, annot_kws, linewidths, linecolor, cbar, cbar_kws, cbar_ax, square, xticklabels, yticklabels, mask, ax, **kwargs)\u001b[0m\n\u001b[0;32m    365\u001b[0m \u001b[39m\u001b[39m\u001b[39m\"\"\"Plot rectangular data as a color-encoded matrix.\u001b[39;00m\n\u001b[0;32m    366\u001b[0m \n\u001b[0;32m    367\u001b[0m \u001b[39mThis is an Axes-level function and will draw the heatmap into the\u001b[39;00m\n\u001b[1;32m   (...)\u001b[0m\n\u001b[0;32m    443\u001b[0m \n\u001b[0;32m    444\u001b[0m \u001b[39m\"\"\"\u001b[39;00m\n\u001b[0;32m    445\u001b[0m \u001b[39m# Initialize the plotter object\u001b[39;00m\n\u001b[1;32m--> 446\u001b[0m plotter \u001b[39m=\u001b[39m _HeatMapper(data, vmin, vmax, cmap, center, robust, annot, fmt,\n\u001b[0;32m    447\u001b[0m                       annot_kws, cbar, cbar_kws, xticklabels,\n\u001b[0;32m    448\u001b[0m                       yticklabels, mask)\n\u001b[0;32m    450\u001b[0m \u001b[39m# Add the pcolormesh kwargs here\u001b[39;00m\n\u001b[0;32m    451\u001b[0m kwargs[\u001b[39m\"\u001b[39m\u001b[39mlinewidths\u001b[39m\u001b[39m\"\u001b[39m] \u001b[39m=\u001b[39m linewidths\n",
      "File \u001b[1;32mc:\\Users\\A C E R\\AppData\\Local\\Programs\\Python\\Python38\\lib\\site-packages\\seaborn\\matrix.py:163\u001b[0m, in \u001b[0;36m_HeatMapper.__init__\u001b[1;34m(self, data, vmin, vmax, cmap, center, robust, annot, fmt, annot_kws, cbar, cbar_kws, xticklabels, yticklabels, mask)\u001b[0m\n\u001b[0;32m    160\u001b[0m \u001b[39mself\u001b[39m\u001b[39m.\u001b[39mylabel \u001b[39m=\u001b[39m ylabel \u001b[39mif\u001b[39;00m ylabel \u001b[39mis\u001b[39;00m \u001b[39mnot\u001b[39;00m \u001b[39mNone\u001b[39;00m \u001b[39melse\u001b[39;00m \u001b[39m\"\u001b[39m\u001b[39m\"\u001b[39m\n\u001b[0;32m    162\u001b[0m \u001b[39m# Determine good default values for the colormapping\u001b[39;00m\n\u001b[1;32m--> 163\u001b[0m \u001b[39mself\u001b[39;49m\u001b[39m.\u001b[39;49m_determine_cmap_params(plot_data, vmin, vmax,\n\u001b[0;32m    164\u001b[0m                             cmap, center, robust)\n\u001b[0;32m    166\u001b[0m \u001b[39m# Sort out the annotations\u001b[39;00m\n\u001b[0;32m    167\u001b[0m \u001b[39mif\u001b[39;00m annot \u001b[39mis\u001b[39;00m \u001b[39mNone\u001b[39;00m \u001b[39mor\u001b[39;00m annot \u001b[39mis\u001b[39;00m \u001b[39mFalse\u001b[39;00m:\n",
      "File \u001b[1;32mc:\\Users\\A C E R\\AppData\\Local\\Programs\\Python\\Python38\\lib\\site-packages\\seaborn\\matrix.py:202\u001b[0m, in \u001b[0;36m_HeatMapper._determine_cmap_params\u001b[1;34m(self, plot_data, vmin, vmax, cmap, center, robust)\u001b[0m\n\u001b[0;32m    200\u001b[0m         vmin \u001b[39m=\u001b[39m np\u001b[39m.\u001b[39mnanpercentile(calc_data, \u001b[39m2\u001b[39m)\n\u001b[0;32m    201\u001b[0m     \u001b[39melse\u001b[39;00m:\n\u001b[1;32m--> 202\u001b[0m         vmin \u001b[39m=\u001b[39m np\u001b[39m.\u001b[39;49mnanmin(calc_data)\n\u001b[0;32m    203\u001b[0m \u001b[39mif\u001b[39;00m vmax \u001b[39mis\u001b[39;00m \u001b[39mNone\u001b[39;00m:\n\u001b[0;32m    204\u001b[0m     \u001b[39mif\u001b[39;00m robust:\n",
      "File \u001b[1;32m<__array_function__ internals>:180\u001b[0m, in \u001b[0;36mnanmin\u001b[1;34m(*args, **kwargs)\u001b[0m\n",
      "File \u001b[1;32mc:\\Users\\A C E R\\AppData\\Local\\Programs\\Python\\Python38\\lib\\site-packages\\numpy\\lib\\nanfunctions.py:343\u001b[0m, in \u001b[0;36mnanmin\u001b[1;34m(a, axis, out, keepdims, initial, where)\u001b[0m\n\u001b[0;32m    338\u001b[0m     kwargs[\u001b[39m'\u001b[39m\u001b[39mwhere\u001b[39m\u001b[39m'\u001b[39m] \u001b[39m=\u001b[39m where\n\u001b[0;32m    340\u001b[0m \u001b[39mif\u001b[39;00m \u001b[39mtype\u001b[39m(a) \u001b[39mis\u001b[39;00m np\u001b[39m.\u001b[39mndarray \u001b[39mand\u001b[39;00m a\u001b[39m.\u001b[39mdtype \u001b[39m!=\u001b[39m np\u001b[39m.\u001b[39mobject_:\n\u001b[0;32m    341\u001b[0m     \u001b[39m# Fast, but not safe for subclasses of ndarray, or object arrays,\u001b[39;00m\n\u001b[0;32m    342\u001b[0m     \u001b[39m# which do not implement isnan (gh-9009), or fmin correctly (gh-8975)\u001b[39;00m\n\u001b[1;32m--> 343\u001b[0m     res \u001b[39m=\u001b[39m np\u001b[39m.\u001b[39;49mfmin\u001b[39m.\u001b[39;49mreduce(a, axis\u001b[39m=\u001b[39;49maxis, out\u001b[39m=\u001b[39;49mout, \u001b[39m*\u001b[39;49m\u001b[39m*\u001b[39;49mkwargs)\n\u001b[0;32m    344\u001b[0m     \u001b[39mif\u001b[39;00m np\u001b[39m.\u001b[39misnan(res)\u001b[39m.\u001b[39many():\n\u001b[0;32m    345\u001b[0m         warnings\u001b[39m.\u001b[39mwarn(\u001b[39m\"\u001b[39m\u001b[39mAll-NaN slice encountered\u001b[39m\u001b[39m\"\u001b[39m, \u001b[39mRuntimeWarning\u001b[39;00m,\n\u001b[0;32m    346\u001b[0m                       stacklevel\u001b[39m=\u001b[39m\u001b[39m3\u001b[39m)\n",
      "\u001b[1;31mValueError\u001b[0m: zero-size array to reduction operation fmin which has no identity"
     ]
    },
    {
     "data": {
      "image/png": "[encoded data removed]",
      "text/plain": [
       "<Figure size 150x450 with 1 Axes>"
      ]
     },
     "metadata": {
      "needs_background": "light"
     },
     "output_type": "display_data"
    }
   ],
   "source": [
    "plt.figure(figsize=(1.5,4.5))\n",
    "plt.title('Category Interest Correlation')\n",
    "sns.heatmap(cross_tab, annot=False, cmap='Reds');"
   ]
  },
  {
   "cell_type": "markdown",
   "metadata": {},
   "source": [
    "So, Here we can see that people are highly interested in Protocols and Blockchain Service providing companies"
   ]
  },
  {
   "cell_type": "markdown",
   "metadata": {},
   "source": [
    "#### This project was part of Jovian's Data Analysis with Python: Zero to Pandas course. Here I tried to visualize data and also draw some conclusion out of the collected dataset. There were many missing data and also a lot of gibberish/irrelevant values, the analysis could have been a lot better with a complete dataset."
   ]
  },
  {
   "cell_type": "markdown",
   "metadata": {},
   "source": []
  }
 ],
 "metadata": {
  "kernelspec": {
   "display_name": "Python 3",
   "language": "python",
   "name": "python3"
  },
  "language_info": {
   "codemirror_mode": {
    "name": "ipython",
    "version": 3
   },
   "file_extension": ".py",
   "mimetype": "text/x-python",
   "name": "python",
   "nbconvert_exporter": "python",
   "pygments_lexer": "ipython3",
   "version": "3.8.3"
  },
  "orig_nbformat": 4
 },
 "nbformat": 4,
 "nbformat_minor": 2
}
